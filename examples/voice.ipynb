{
 "cells": [
  {
   "cell_type": "code",
   "execution_count": 8,
   "metadata": {},
   "outputs": [],
   "source": [
    "import os\n",
    "from typing import IO\n",
    "from io import BytesIO\n",
    "from elevenlabs import VoiceSettings\n",
    "from elevenlabs.client import ElevenLabs\n",
    "from elevenlabs import play\n",
    "\n",
    "ELEVENLABS_API_KEY = 'sk_470ef187d4e35cfc9798688621afde67b9a617c06305bbb8'  # os.getenv(\"ELEVENLABS_API_KEY\")\n",
    "client = ElevenLabs(\n",
    "    api_key=ELEVENLABS_API_KEY,\n",
    ")\n",
    "\n",
    "def text_to_speech_stream(text: str) -> IO[bytes]:\n",
    "    # Perform the text-to-speech conversion\n",
    "    response = client.text_to_speech.convert(\n",
    "        voice_id=\"3l9iCMrNSRR0w51JvFB0\", \n",
    "        output_format=\"mp3_22050_32\",\n",
    "        text=text,\n",
    "        model_id=\"eleven_flash_v2_5\",\n",
    "        # Optional voice settings that allow you to customize the output\n",
    "        voice_settings=VoiceSettings(\n",
    "            stability=0.0,\n",
    "            similarity_boost=1.0,\n",
    "            style=0.0,\n",
    "            use_speaker_boost=True,\n",
    "            speed=1.0,\n",
    "        ),\n",
    "    )\n",
    "\n",
    "    # Create a BytesIO object to hold the audio data in memory\n",
    "    audio_stream = BytesIO()\n",
    "\n",
    "    # Write each chunk of audio data to the stream\n",
    "    for chunk in response:\n",
    "        if chunk:\n",
    "            audio_stream.write(chunk)\n",
    "\n",
    "    # Reset stream position to the beginning\n",
    "    audio_stream.seek(0)\n",
    "\n",
    "    # Return the stream for further use\n",
    "    return audio_stream"
   ]
  },
  {
   "cell_type": "code",
   "execution_count": 9,
   "metadata": {},
   "outputs": [],
   "source": [
    "audio = text_to_speech_stream(\"This is Leo, how can I help you today?\")\n",
    "#play(audio)\n"
   ]
  },
  {
   "cell_type": "code",
   "execution_count": 10,
   "metadata": {},
   "outputs": [],
   "source": [
    "play(audio)"
   ]
  },
  {
   "cell_type": "code",
   "execution_count": 11,
   "metadata": {},
   "outputs": [
    {
     "name": "stdout",
     "output_type": "stream",
     "text": [
      "Recording for 5 seconds...\n",
      "Recording finished!\n",
      "Transcription:\n",
      "language_code='eng' language_probability=0.9649842381477356 text=\"Hey, what's up? It's Jake.\" words=[SpeechToTextWordResponseModel(text='Hey,', start=1.159, end=1.46, type='word', speaker_id=None, characters=None), SpeechToTextWordResponseModel(text=' ', start=1.46, end=2.18, type='spacing', speaker_id=None, characters=None), SpeechToTextWordResponseModel(text=\"what's\", start=2.18, end=2.399, type='word', speaker_id=None, characters=None), SpeechToTextWordResponseModel(text=' ', start=2.399, end=2.48, type='spacing', speaker_id=None, characters=None), SpeechToTextWordResponseModel(text='up?', start=2.48, end=2.699, type='word', speaker_id=None, characters=None), SpeechToTextWordResponseModel(text=' ', start=2.699, end=3.22, type='spacing', speaker_id=None, characters=None), SpeechToTextWordResponseModel(text=\"It's\", start=3.22, end=3.459, type='word', speaker_id=None, characters=None), SpeechToTextWordResponseModel(text=' ', start=3.459, end=3.48, type='spacing', speaker_id=None, characters=None), SpeechToTextWordResponseModel(text='Jake.', start=3.48, end=3.899, type='word', speaker_id=None, characters=None)]\n"
     ]
    }
   ],
   "source": [
    "from audio_recorder import AudioRecorder\n",
    "recorder = AudioRecorder(client)\n",
    "audio = recorder.record_and_transcribe()"
   ]
  },
  {
   "cell_type": "code",
   "execution_count": 8,
   "metadata": {},
   "outputs": [
    {
     "data": {
      "text/plain": [
       "\"Hey, what's up? How are you doing today?\""
      ]
     },
     "execution_count": 8,
     "metadata": {},
     "output_type": "execute_result"
    }
   ],
   "source": [
    "audio.text"
   ]
  },
  {
   "cell_type": "code",
   "execution_count": 11,
   "metadata": {},
   "outputs": [
    {
     "ename": "TypeError",
     "evalue": "AudioRecorder.record_and_transcribe() got an unexpected keyword argument 'duration'",
     "output_type": "error",
     "traceback": [
      "\u001b[0;31m---------------------------------------------------------------------------\u001b[0m",
      "\u001b[0;31mTypeError\u001b[0m                                 Traceback (most recent call last)",
      "Cell \u001b[0;32mIn[11], line 19\u001b[0m\n\u001b[1;32m     15\u001b[0m stop_button\u001b[38;5;241m.\u001b[39mon_click(on_stop_button_clicked)\n\u001b[1;32m     17\u001b[0m \u001b[38;5;66;03m# Start recording\u001b[39;00m\n\u001b[0;32m---> 19\u001b[0m \u001b[43mrecorder\u001b[49m\u001b[38;5;241;43m.\u001b[39;49m\u001b[43mrecord_and_transcribe\u001b[49m\u001b[43m(\u001b[49m\u001b[43mduration\u001b[49m\u001b[38;5;241;43m=\u001b[39;49m\u001b[38;5;241;43m5\u001b[39;49m\u001b[43m)\u001b[49m\n\u001b[1;32m     21\u001b[0m \u001b[38;5;66;03m# Display the stop button\u001b[39;00m\n\u001b[1;32m     22\u001b[0m display(stop_button)\n",
      "\u001b[0;31mTypeError\u001b[0m: AudioRecorder.record_and_transcribe() got an unexpected keyword argument 'duration'"
     ]
    }
   ],
   "source": [
    "import ipywidgets as widgets\n",
    "from IPython.display import display\n",
    "\n",
    "# Create an instance of the AudioRecorder\n",
    "recorder = AudioRecorder(client)\n",
    "\n",
    "# Create a button to stop recording\n",
    "stop_button = widgets.Button(description=\"Stop Recording\")\n",
    "\n",
    "def on_stop_button_clicked(b):\n",
    "    recorder.stop_recording()\n",
    "    filename = recorder.save_audio()  # Save the recording\n",
    "    print(f\"Recording saved as {filename}\")\n",
    "\n",
    "stop_button.on_click(on_stop_button_clicked)\n",
    "\n",
    "# Start recording\n",
    "\n",
    "recorder.record_and_transcribe(duration=5)\n",
    "\n",
    "# Display the stop button\n",
    "display(stop_button)"
   ]
  },
  {
   "cell_type": "code",
   "execution_count": null,
   "metadata": {},
   "outputs": [],
   "source": [
    "recorder"
   ]
  },
  {
   "cell_type": "code",
   "execution_count": 12,
   "metadata": {},
   "outputs": [
    {
     "name": "stdout",
     "output_type": "stream",
     "text": [
      "language_code='eng' language_probability=0.8173669576644897 text=\"With a soft and whispery American accent, I'm the ideal choice for creating ASMR content, meditative guides, or adding an intimate feel to your narrative projects.\" words=[SpeechToTextWordResponseModel(text='With', start=0.099, end=0.259, type='word', speaker_id=None, characters=None), SpeechToTextWordResponseModel(text=' ', start=0.259, end=0.28, type='spacing', speaker_id=None, characters=None), SpeechToTextWordResponseModel(text='a', start=0.28, end=0.36, type='word', speaker_id=None, characters=None), SpeechToTextWordResponseModel(text=' ', start=0.36, end=0.479, type='spacing', speaker_id=None, characters=None), SpeechToTextWordResponseModel(text='soft', start=0.479, end=1.059, type='word', speaker_id=None, characters=None), SpeechToTextWordResponseModel(text=' ', start=1.059, end=1.179, type='spacing', speaker_id=None, characters=None), SpeechToTextWordResponseModel(text='and', start=1.179, end=1.36, type='word', speaker_id=None, characters=None), SpeechToTextWordResponseModel(text=' ', start=1.36, end=1.419, type='spacing', speaker_id=None, characters=None), SpeechToTextWordResponseModel(text='whispery', start=1.419, end=1.98, type='word', speaker_id=None, characters=None), SpeechToTextWordResponseModel(text=' ', start=1.98, end=2.159, type='spacing', speaker_id=None, characters=None), SpeechToTextWordResponseModel(text='American', start=2.159, end=2.719, type='word', speaker_id=None, characters=None), SpeechToTextWordResponseModel(text=' ', start=2.719, end=2.759, type='spacing', speaker_id=None, characters=None), SpeechToTextWordResponseModel(text='accent,', start=2.759, end=3.439, type='word', speaker_id=None, characters=None), SpeechToTextWordResponseModel(text=' ', start=3.439, end=4.159, type='spacing', speaker_id=None, characters=None), SpeechToTextWordResponseModel(text=\"I'm\", start=4.159, end=4.459, type='word', speaker_id=None, characters=None), SpeechToTextWordResponseModel(text=' ', start=4.459, end=4.48, type='spacing', speaker_id=None, characters=None), SpeechToTextWordResponseModel(text='the', start=4.48, end=4.599, type='word', speaker_id=None, characters=None), SpeechToTextWordResponseModel(text=' ', start=4.599, end=4.679, type='spacing', speaker_id=None, characters=None), SpeechToTextWordResponseModel(text='ideal', start=4.679, end=5.099, type='word', speaker_id=None, characters=None), SpeechToTextWordResponseModel(text=' ', start=5.099, end=5.199, type='spacing', speaker_id=None, characters=None), SpeechToTextWordResponseModel(text='choice', start=5.199, end=5.719, type='word', speaker_id=None, characters=None), SpeechToTextWordResponseModel(text=' ', start=5.719, end=6.059, type='spacing', speaker_id=None, characters=None), SpeechToTextWordResponseModel(text='for', start=6.059, end=6.199, type='word', speaker_id=None, characters=None), SpeechToTextWordResponseModel(text=' ', start=6.199, end=6.259, type='spacing', speaker_id=None, characters=None), SpeechToTextWordResponseModel(text='creating', start=6.259, end=6.899, type='word', speaker_id=None, characters=None), SpeechToTextWordResponseModel(text=' ', start=6.899, end=6.96, type='spacing', speaker_id=None, characters=None), SpeechToTextWordResponseModel(text='ASMR', start=6.96, end=7.739, type='word', speaker_id=None, characters=None), SpeechToTextWordResponseModel(text=' ', start=7.739, end=7.839, type='spacing', speaker_id=None, characters=None), SpeechToTextWordResponseModel(text='content,', start=7.839, end=8.48, type='word', speaker_id=None, characters=None), SpeechToTextWordResponseModel(text=' ', start=8.48, end=9.039, type='spacing', speaker_id=None, characters=None), SpeechToTextWordResponseModel(text='meditative', start=9.039, end=9.64, type='word', speaker_id=None, characters=None), SpeechToTextWordResponseModel(text=' ', start=9.64, end=9.699, type='spacing', speaker_id=None, characters=None), SpeechToTextWordResponseModel(text='guides,', start=9.699, end=10.299, type='word', speaker_id=None, characters=None), SpeechToTextWordResponseModel(text=' ', start=10.299, end=11.319, type='spacing', speaker_id=None, characters=None), SpeechToTextWordResponseModel(text='or', start=11.319, end=11.479, type='word', speaker_id=None, characters=None), SpeechToTextWordResponseModel(text=' ', start=11.479, end=11.5, type='spacing', speaker_id=None, characters=None), SpeechToTextWordResponseModel(text='adding', start=11.5, end=11.88, type='word', speaker_id=None, characters=None), SpeechToTextWordResponseModel(text=' ', start=11.88, end=11.979, type='spacing', speaker_id=None, characters=None), SpeechToTextWordResponseModel(text='an', start=11.979, end=12.079, type='word', speaker_id=None, characters=None), SpeechToTextWordResponseModel(text=' ', start=12.079, end=12.179, type='spacing', speaker_id=None, characters=None), SpeechToTextWordResponseModel(text='intimate', start=12.179, end=12.579, type='word', speaker_id=None, characters=None), SpeechToTextWordResponseModel(text=' ', start=12.579, end=12.679, type='spacing', speaker_id=None, characters=None), SpeechToTextWordResponseModel(text='feel', start=12.679, end=13.159, type='word', speaker_id=None, characters=None), SpeechToTextWordResponseModel(text=' ', start=13.159, end=13.159, type='spacing', speaker_id=None, characters=None), SpeechToTextWordResponseModel(text='to', start=13.159, end=13.26, type='word', speaker_id=None, characters=None), SpeechToTextWordResponseModel(text=' ', start=13.26, end=13.299, type='spacing', speaker_id=None, characters=None), SpeechToTextWordResponseModel(text='your', start=13.299, end=13.399, type='word', speaker_id=None, characters=None), SpeechToTextWordResponseModel(text=' ', start=13.399, end=13.479, type='spacing', speaker_id=None, characters=None), SpeechToTextWordResponseModel(text='narrative', start=13.479, end=13.859, type='word', speaker_id=None, characters=None), SpeechToTextWordResponseModel(text=' ', start=13.859, end=13.92, type='spacing', speaker_id=None, characters=None), SpeechToTextWordResponseModel(text='projects.', start=13.92, end=14.639, type='word', speaker_id=None, characters=None)]\n"
     ]
    }
   ],
   "source": [
    "from dotenv import load_dotenv\n",
    "from io import BytesIO\n",
    "import requests\n",
    "from elevenlabs.client import ElevenLabs\n",
    "\n",
    "load_dotenv()\n",
    "\n",
    "\n",
    "client = ElevenLabs(\n",
    "  api_key=ELEVENLABS_API_KEY,\n",
    ")\n",
    "\n",
    "audio_url = (\n",
    "    \"https://storage.googleapis.com/eleven-public-cdn/audio/marketing/nicole.mp3\"\n",
    ")\n",
    "response = requests.get(audio_url)\n",
    "audio_data = BytesIO(response.content)\n",
    "\n",
    "transcription = client.speech_to_text.convert(\n",
    "  file=audio_data,\n",
    "  model_id=\"scribe_v1\",\n",
    ")\n",
    "\n",
    "print(transcription)\n"
   ]
  },
  {
   "cell_type": "code",
   "execution_count": null,
   "metadata": {},
   "outputs": [],
   "source": []
  }
 ],
 "metadata": {
  "kernelspec": {
   "display_name": "Python 3",
   "language": "python",
   "name": "python3"
  },
  "language_info": {
   "codemirror_mode": {
    "name": "ipython",
    "version": 3
   },
   "file_extension": ".py",
   "mimetype": "text/x-python",
   "name": "python",
   "nbconvert_exporter": "python",
   "pygments_lexer": "ipython3",
   "version": "3.10.0"
  }
 },
 "nbformat": 4,
 "nbformat_minor": 2
}
