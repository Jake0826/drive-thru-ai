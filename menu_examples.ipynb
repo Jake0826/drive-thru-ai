{
 "cells": [
  {
   "cell_type": "code",
   "execution_count": 3,
   "metadata": {},
   "outputs": [],
   "source": [
    "import pandas as pd \n",
    "import numpy as np "
   ]
  },
  {
   "cell_type": "code",
   "execution_count": 4,
   "metadata": {},
   "outputs": [
    {
     "name": "stdout",
     "output_type": "stream",
     "text": [
      "Custom Burger:\n",
      "Name: Double Patty Double Cheese No Pickles\n",
      "Description: Burger with: double patty, double cheese, normal lettuce, normal tomato, normal onion, normal sauce\n",
      "Price: $7.99\n",
      "Image: https://via.placeholder.com/150?text=Burger\n",
      "\n",
      "Meal:\n",
      "Name: Double Patty Double Cheese No Pickles Meal\n",
      "Description: Burger with: double patty, double cheese, normal lettuce, normal tomato, normal onion, normal sauce Meal with Medium Coke and Medium Fries\n",
      "Price: $11.97\n"
     ]
    }
   ],
   "source": [
    "from fast_food_menu import *\n",
    "\n",
    "# Example 1: A burger with custom ingredients\n",
    "burger = Burger(5.99)\n",
    "burger.set_ingredient(\"cheese\", IngredientAmount.DOUBLE)\n",
    "burger.set_ingredient(\"pickles\", IngredientAmount.NONE)\n",
    "burger.set_ingredient(\"patty\", IngredientAmount.DOUBLE)\n",
    "\n",
    "print(\"Custom Burger:\")\n",
    "print(f\"Name: {burger.get_name()}\")\n",
    "print(f\"Description: {burger.get_description()}\")\n",
    "print(f\"Price: ${burger.get_price():.2f}\")\n",
    "print(f\"Image: {burger.get_image()}\")\n",
    "\n",
    "# Create a meal with this burger\n",
    "meal = Meal(\n",
    "    main_item=burger,\n",
    "    drink=Drink(DrinkType.FOUNTAIN, FountainFlavor.COKE, Size.MEDIUM),\n",
    "    fries=Fries(Size.MEDIUM)\n",
    ")\n",
    "\n",
    "print(\"\\nMeal:\")\n",
    "print(f\"Name: {meal.get_name()}\")\n",
    "print(f\"Description: {meal.get_description()}\")\n",
    "print(f\"Price: ${meal.get_price():.2f}\")"
   ]
  },
  {
   "cell_type": "code",
   "execution_count": 5,
   "metadata": {},
   "outputs": [
    {
     "name": "stdout",
     "output_type": "stream",
     "text": [
      "Family Order:\n",
      "20 Piece Nuggets: $9.99\n",
      "6 Piece Nuggets: $3.99\n",
      "Large Chocolate Milkshake: $4.99\n",
      "Medium Diet Coke: $2.49\n",
      "Large Fries: $2.99\n",
      "\n",
      "Total Order: $24.45\n"
     ]
    }
   ],
   "source": [
    "# Example 2: A family order with nuggets and individual items\n",
    "nuggets_20 = Nuggets(20)\n",
    "nuggets_6 = Nuggets(6)\n",
    "milkshake = Drink(DrinkType.MILKSHAKE, MilkshakeFlavor.CHOCOLATE, Size.LARGE)\n",
    "fountain_drink = Drink(DrinkType.FOUNTAIN, FountainFlavor.DIET_COKE, Size.MEDIUM)\n",
    "fries_large = Fries(Size.LARGE)\n",
    "\n",
    "print(\"Family Order:\")\n",
    "print(f\"20 Piece Nuggets: ${nuggets_20.get_price():.2f}\")\n",
    "print(f\"6 Piece Nuggets: ${nuggets_6.get_price():.2f}\")\n",
    "print(f\"Large Chocolate Milkshake: ${milkshake.get_price():.2f}\")\n",
    "print(f\"Medium Diet Coke: ${fountain_drink.get_price():.2f}\")\n",
    "print(f\"Large Fries: ${fries_large.get_price():.2f}\")\n",
    "\n",
    "total = nuggets_20.get_price() + nuggets_6.get_price() + milkshake.get_price() + \\\n",
    "        fountain_drink.get_price() + fries_large.get_price()\n",
    "print(f\"\\nTotal Order: ${total:.2f}\")"
   ]
  },
  {
   "cell_type": "code",
   "execution_count": 6,
   "metadata": {},
   "outputs": [
    {
     "name": "stdout",
     "output_type": "stream",
     "text": [
      "Custom Burger:\n",
      "Name: Double Patty Double Cheese Light Lettuce No Onion Double Pickles\n",
      "Description: Burger with: double patty, double cheese, light lettuce, normal tomato, double pickles, normal sauce\n",
      "Price: $9.99\n",
      "Image: https://via.placeholder.com/150?text=Burger\n"
     ]
    }
   ],
   "source": [
    "# Example 3: A custom burger with all ingredients modified\n",
    "custom_burger = Burger(6.99)\n",
    "custom_burger.set_ingredient(\"patty\", IngredientAmount.DOUBLE)\n",
    "custom_burger.set_ingredient(\"cheese\", IngredientAmount.DOUBLE)\n",
    "custom_burger.set_ingredient(\"lettuce\", IngredientAmount.LIGHT)\n",
    "custom_burger.set_ingredient(\"tomato\", IngredientAmount.NORMAL)\n",
    "custom_burger.set_ingredient(\"onion\", IngredientAmount.NONE)\n",
    "custom_burger.set_ingredient(\"pickles\", IngredientAmount.DOUBLE)\n",
    "custom_burger.set_ingredient(\"sauce\", IngredientAmount.NORMAL)\n",
    "\n",
    "print(\"Custom Burger:\")\n",
    "print(f\"Name: {custom_burger.get_name()}\")\n",
    "print(f\"Description: {custom_burger.get_description()}\")\n",
    "print(f\"Price: ${custom_burger.get_price():.2f}\")\n",
    "print(f\"Image: {custom_burger.get_image()}\")"
   ]
  },
  {
   "cell_type": "code",
   "execution_count": 7,
   "metadata": {},
   "outputs": [
    {
     "name": "stdout",
     "output_type": "stream",
     "text": [
      "10 Piece Nuggets Meal:\n",
      "Description: 10 Piece Chicken Nuggets Meal with Large Coke and Large Fries\n",
      "Price: $10.97\n",
      "Image: https://via.placeholder.com/150?text=Complete+Meal\n"
     ]
    }
   ],
   "source": [
    "# Example 4: A value meal with nuggets\n",
    "nuggets_meal = Meal(\n",
    "    main_item=Nuggets(10),\n",
    "    drink=Drink(DrinkType.FOUNTAIN, FountainFlavor.COKE, Size.LARGE),\n",
    "    fries=Fries(Size.LARGE)\n",
    ")\n",
    "\n",
    "print(\"10 Piece Nuggets Meal:\")\n",
    "print(f\"Description: {nuggets_meal.get_description()}\")\n",
    "print(f\"Price: ${nuggets_meal.get_price():.2f}\")\n",
    "print(f\"Image: {nuggets_meal.get_image()}\")"
   ]
  },
  {
   "cell_type": "code",
   "execution_count": 8,
   "metadata": {},
   "outputs": [
    {
     "name": "stdout",
     "output_type": "stream",
     "text": [
      "Order Summary:\n",
      "----------------------------------------\n",
      "1x Double Patty Double Cheese Light Lettuce No Onion Double Pickles: $9.99 each\n",
      "1x 10 Piece Chicken Nuggets Meal: $10.97 each\n",
      "1x Small Strawberry Milkshake: $3.99 each\n",
      "1x Small Fries: $1.99 each\n",
      "----------------------------------------\n",
      "Total: $26.94\n",
      "\n",
      "Items by type:\n",
      "Burger: 1 items\n",
      "Meal: 1 items\n",
      "Drink: 1 items\n",
      "Fries: 1 items\n",
      "\n",
      "Item counts:\n",
      "Double Patty Double Cheese Light Lettuce No Onion Double Pickles: 1\n",
      "10 Piece Chicken Nuggets Meal: 1\n",
      "Small Strawberry Milkshake: 1\n",
      "Small Fries: 1\n",
      "\n",
      "Total price: $26.94\n"
     ]
    }
   ],
   "source": [
    "# Example 5: Using the Order class to manage multiple items\n",
    "order = Order()\n",
    "\n",
    "# Add items to the order\n",
    "order.add_item(custom_burger)  # From Example 3\n",
    "order.add_item(nuggets_meal)   # From Example 4\n",
    "order.add_item(Drink(DrinkType.MILKSHAKE, MilkshakeFlavor.STRAWBERRY, Size.SMALL))\n",
    "order.add_item(Fries(Size.SMALL))\n",
    "\n",
    "# Get order summary\n",
    "print(order.get_order_summary())\n",
    "\n",
    "# Get items grouped by type\n",
    "items_by_type = order.get_items_by_type()\n",
    "print(\"\\nItems by type:\")\n",
    "for item_type, items in items_by_type.items():\n",
    "    print(f\"{item_type}: {len(items)} items\")\n",
    "\n",
    "# Get specific item counts\n",
    "item_counts = order.get_item_counts()\n",
    "print(\"\\nItem counts:\")\n",
    "for item_name, count in item_counts.items():\n",
    "    print(f\"{item_name}: {count}\")\n",
    "\n",
    "# Get total price\n",
    "print(f\"\\nTotal price: ${order.get_total_price():.2f}\")"
   ]
  },
  {
   "cell_type": "code",
   "execution_count": null,
   "metadata": {},
   "outputs": [],
   "source": []
  },
  {
   "cell_type": "code",
   "execution_count": null,
   "metadata": {},
   "outputs": [],
   "source": []
  }
 ],
 "metadata": {
  "kernelspec": {
   "display_name": "3.10.0",
   "language": "python",
   "name": "python3"
  },
  "language_info": {
   "name": "python",
   "version": "3.10.0"
  }
 },
 "nbformat": 4,
 "nbformat_minor": 2
}
